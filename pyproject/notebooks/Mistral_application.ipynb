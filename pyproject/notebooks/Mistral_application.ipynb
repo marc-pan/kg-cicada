{
 "cells": [
  {
   "cell_type": "markdown",
   "id": "adba9fad-6780-401d-9b2b-070f27dfb395",
   "metadata": {},
   "source": [
    "# LLM Application with Mistral"
   ]
  },
  {
   "cell_type": "code",
   "execution_count": null,
   "id": "52a507a4-8ac0-4dfa-9501-d1e789a11d38",
   "metadata": {},
   "outputs": [],
   "source": [
    "%conda install langchain langchain_mistralai"
   ]
  }
 ],
 "metadata": {
  "kernelspec": {
   "display_name": "Python 3 (ipykernel)",
   "language": "python",
   "name": "python3"
  },
  "language_info": {
   "codemirror_mode": {
    "name": "ipython",
    "version": 3
   },
   "file_extension": ".py",
   "mimetype": "text/x-python",
   "name": "python",
   "nbconvert_exporter": "python",
   "pygments_lexer": "ipython3",
   "version": "3.13.0"
  }
 },
 "nbformat": 4,
 "nbformat_minor": 5
}
