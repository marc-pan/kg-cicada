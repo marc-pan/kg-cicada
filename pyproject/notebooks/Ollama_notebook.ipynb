{
 "cells": [
  {
   "cell_type": "markdown",
   "id": "b7574ff1-a050-46d5-b94d-13964df925bb",
   "metadata": {},
   "source": [
    "# Build a local app with ollama"
   ]
  },
  {
   "cell_type": "markdown",
   "id": "8c23ec06-7aa9-48b9-a4eb-d131bed0c569",
   "metadata": {},
   "source": [
    "Install langchian ollama package\n",
    "\n",
    "```bash\n",
    "%pip install -qU langchain-ollama\n",
    "```"
   ]
  },
  {
   "cell_type": "code",
   "execution_count": 2,
   "id": "c2f83875-c9b5-45cd-84a2-b7e52c187391",
   "metadata": {},
   "outputs": [
    {
     "data": {
      "text/plain": [
       "'\\nNeil Armstrong.'"
      ]
     },
     "execution_count": 2,
     "metadata": {},
     "output_type": "execute_result"
    }
   ],
   "source": [
    "import ollama\n",
    "import os\n",
    "\n",
    "os.environ[\"OLLAMA_HOST\"] = \"127.0.0.1\"\n",
    "os.environ[\"OLLAMA_PORT\"] = \"11434\"\n",
    "\n",
    "from langchain_ollama import OllamaLLM\n",
    "\n",
    "llm = OllamaLLM(model=\"llama2:13b\")\n",
    "\n",
    "llm.invoke(\"The first man on the moon was ...\")"
   ]
  },
  {
   "cell_type": "code",
   "execution_count": null,
   "id": "ef76782e-5688-4712-97aa-a58a8eeae4f4",
   "metadata": {},
   "outputs": [],
   "source": []
  }
 ],
 "metadata": {
  "kernelspec": {
   "display_name": "Python 3 (ipykernel)",
   "language": "python",
   "name": "python3"
  },
  "language_info": {
   "codemirror_mode": {
    "name": "ipython",
    "version": 3
   },
   "file_extension": ".py",
   "mimetype": "text/x-python",
   "name": "python",
   "nbconvert_exporter": "python",
   "pygments_lexer": "ipython3",
   "version": "3.13.0"
  }
 },
 "nbformat": 4,
 "nbformat_minor": 5
}
